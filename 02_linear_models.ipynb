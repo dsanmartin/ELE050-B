{
  "nbformat": 4,
  "nbformat_minor": 0,
  "metadata": {
    "colab": {
      "provenance": [],
      "authorship_tag": "ABX9TyPkI5aPztTxRGS3g4dNsZsa",
      "include_colab_link": true
    },
    "kernelspec": {
      "name": "python3",
      "display_name": "Python 3"
    },
    "language_info": {
      "name": "python"
    }
  },
  "cells": [
    {
      "cell_type": "markdown",
      "metadata": {
        "id": "view-in-github",
        "colab_type": "text"
      },
      "source": [
        "<a href=\"https://colab.research.google.com/github/dsanmartin/ELE050-B/blob/main/02_linear_models.ipynb\" target=\"_parent\"><img src=\"https://colab.research.google.com/assets/colab-badge.svg\" alt=\"Open In Colab\"/></a>"
      ]
    },
    {
      "cell_type": "code",
      "execution_count": 1,
      "metadata": {
        "id": "fTjrP0Eakn4q"
      },
      "outputs": [],
      "source": [
        "import numpy as np\n",
        "import matplotlib.pyplot as plt\n",
        "from sklearn.linear_model import LinearRegression, LogisticRegression"
      ]
    },
    {
      "cell_type": "markdown",
      "source": [
        "# Datos\n",
        "Usaremos los mismos $x$ para ambos problemas. Además, construimos la matriz $X$ con\n",
        "\\begin{equation}\n",
        "  X =\n",
        "  \\begin{pmatrix}\n",
        "  1 & \\mathbf{x}_{1} \\\\\n",
        "  1 & \\mathbf{x}_{2} \\\\\n",
        "  \\vdots & \\vdots \\\\\n",
        "  1 & \\mathbf{x}_{N}\n",
        "  \\end{pmatrix}\n",
        "\\end{equation}"
      ],
      "metadata": {
        "id": "7xc9WgcWB6wu"
      }
    },
    {
      "cell_type": "code",
      "source": [
        "N = 128\n",
        "x = np.linspace(-10, 10, N)\n",
        "X = np.vstack((np.ones(N), x)).T # Crear la matriz con la primera columna de 1's"
      ],
      "metadata": {
        "id": "RVlspG4fB5Ye"
      },
      "execution_count": 2,
      "outputs": []
    },
    {
      "cell_type": "markdown",
      "source": [
        "# Regresión Lineal"
      ],
      "metadata": {
        "id": "ui3NFWNl3UyM"
      }
    },
    {
      "cell_type": "markdown",
      "source": [
        "## Ejemplo de regresión lineal simple"
      ],
      "metadata": {
        "id": "aDNERGsQKJgo"
      }
    },
    {
      "cell_type": "code",
      "source": [
        "w_reg = np.array([5, 1]) # Pesos para generar datos sintéticos\n",
        "f = lambda x: w_reg[0] + w_reg[1] * x # Regresión lineal simple"
      ],
      "metadata": {
        "id": "UFWiori7sJbo"
      },
      "execution_count": 3,
      "outputs": []
    },
    {
      "cell_type": "code",
      "source": [
        "y_reg = f(x) + np.random.normal(0, 2, N)"
      ],
      "metadata": {
        "id": "-Elh0mhusfZw"
      },
      "execution_count": 4,
      "outputs": []
    },
    {
      "cell_type": "code",
      "source": [
        "plt.plot(x, y_reg, 'ro')\n",
        "plt.grid(True)\n",
        "plt.xlabel(r\"$x$\")\n",
        "plt.ylabel(r\"$y$\")\n",
        "plt.show()"
      ],
      "metadata": {
        "colab": {
          "base_uri": "https://localhost:8080/",
          "height": 449
        },
        "id": "uAru_GYptF4H",
        "outputId": "a41230f9-d824-4cef-d80d-d9c5e14b3c6a"
      },
      "execution_count": 5,
      "outputs": [
        {
          "output_type": "display_data",
          "data": {
            "text/plain": [
              "<Figure size 640x480 with 1 Axes>"
            ],
            "image/png": "[encoded data removed]"
          },
          "metadata": {}
        }
      ]
    },
    {
      "cell_type": "markdown",
      "source": [
        "## Ecuaciones Normales\n",
        "\n",
        "Método para obtener los parámetros $\\mathbf{w}$:\n",
        "\\begin{equation}\n",
        "  X^\\top X \\mathbf{w}=X^\\top \\mathbf{y}\n",
        "\\end{equation}"
      ],
      "metadata": {
        "id": "THgLkCxJuBZZ"
      }
    },
    {
      "cell_type": "code",
      "source": [
        "w_reg_ = np.linalg.solve(X.T @ X, X.T @ y_reg)"
      ],
      "metadata": {
        "id": "ZDVScodSt6Cs"
      },
      "execution_count": 6,
      "outputs": []
    },
    {
      "cell_type": "code",
      "source": [
        "w_reg_"
      ],
      "metadata": {
        "colab": {
          "base_uri": "https://localhost:8080/"
        },
        "id": "fRqMUHPCt6aW",
        "outputId": "48adaa97-066c-4a7f-fbd8-b4c017818623"
      },
      "execution_count": 7,
      "outputs": [
        {
          "output_type": "execute_result",
          "data": {
            "text/plain": [
              "array([5.03267523, 0.960414  ])"
            ]
          },
          "metadata": {},
          "execution_count": 7
        }
      ]
    },
    {
      "cell_type": "markdown",
      "source": [
        "## Resolver usando Scikit-Learn"
      ],
      "metadata": {
        "id": "wh0fnjnYCZUZ"
      }
    },
    {
      "cell_type": "code",
      "source": [
        "lr = LinearRegression(fit_intercept=False) # El ajuste de intercepto se puede remover si agregamos la columna de 1's\n",
        "lr = lr.fit(X, y_reg)"
      ],
      "metadata": {
        "id": "vzhwQ6XPuyTm"
      },
      "execution_count": 8,
      "outputs": []
    },
    {
      "cell_type": "code",
      "source": [
        "print(\"Parámetros:\", lr.coef_)"
      ],
      "metadata": {
        "colab": {
          "base_uri": "https://localhost:8080/"
        },
        "id": "N3-MzYBFvGGf",
        "outputId": "29b43b06-dc5f-45b5-afa4-ce6e27f9d703"
      },
      "execution_count": 9,
      "outputs": [
        {
          "output_type": "stream",
          "name": "stdout",
          "text": [
            "Parámetros: [5.03267523 0.960414  ]\n"
          ]
        }
      ]
    },
    {
      "cell_type": "code",
      "source": [
        "y_hat = lr.predict(X)"
      ],
      "metadata": {
        "id": "A2CzEFYTvPjI"
      },
      "execution_count": 10,
      "outputs": []
    },
    {
      "cell_type": "code",
      "source": [
        "plt.plot(x, y_reg, 'ro')\n",
        "plt.plot(x, y_hat, 'b-', label=\"Sklearn\")\n",
        "plt.plot(x, X @ w_reg_, 'k-', label=\"Ecuaciones Normales\")\n",
        "plt.grid(True)\n",
        "plt.xlabel(r\"$x$\")\n",
        "plt.ylabel(r\"$y$\")\n",
        "plt.legend()\n",
        "plt.show()"
      ],
      "metadata": {
        "colab": {
          "base_uri": "https://localhost:8080/",
          "height": 449
        },
        "id": "0Qv4TGn-vyA6",
        "outputId": "9e1ca2f2-2fd1-4961-84c2-9c889afa522e"
      },
      "execution_count": 11,
      "outputs": [
        {
          "output_type": "display_data",
          "data": {
            "text/plain": [
              "<Figure size 640x480 with 1 Axes>"
            ],
            "image/png": "[encoded data removed]"
          },
          "metadata": {}
        }
      ]
    },
    {
      "cell_type": "code",
      "source": [
        "MSE = 1 / N * np.sum((y_reg-y_hat)**2)"
      ],
      "metadata": {
        "id": "nmUqZIuUv9KJ"
      },
      "execution_count": 12,
      "outputs": []
    },
    {
      "cell_type": "code",
      "source": [
        "print(\"MSE = %.4f, RMSE = %.4f\" % (MSE, MSE**0.5))"
      ],
      "metadata": {
        "colab": {
          "base_uri": "https://localhost:8080/"
        },
        "id": "Yjlmcib8wi56",
        "outputId": "a9ece9aa-e29b-4f03-e326-6ca45fbc2f25"
      },
      "execution_count": 13,
      "outputs": [
        {
          "output_type": "stream",
          "name": "stdout",
          "text": [
            "MSE = 4.3948, RMSE = 2.0964\n"
          ]
        }
      ]
    },
    {
      "cell_type": "markdown",
      "source": [
        "# Regresión Logística"
      ],
      "metadata": {
        "id": "TQo6BtGn3Yfv"
      }
    },
    {
      "cell_type": "code",
      "source": [
        "sigmoide = lambda x: 1 / (1 + np.exp(-x))"
      ],
      "metadata": {
        "id": "BSnVCPshwjUB"
      },
      "execution_count": 14,
      "outputs": []
    },
    {
      "cell_type": "code",
      "source": [
        "y_log = sigmoide(x) + 0.1 * np.random.normal(0, 1, N)\n",
        "y_log[y_log >= 0.5] = 1\n",
        "y_log[y_log < 0.5] = 0"
      ],
      "metadata": {
        "id": "fN2V_Moc3qXx"
      },
      "execution_count": 15,
      "outputs": []
    },
    {
      "cell_type": "code",
      "source": [
        "plt.plot(x, y_log, 'ro')\n",
        "plt.plot(x, sigmoide(x), 'k-', label=r\"$\\sigma(x)$\")\n",
        "plt.grid(True)\n",
        "plt.xlabel(r\"$x$\")\n",
        "plt.ylabel(r\"$y$\")\n",
        "plt.legend()\n",
        "plt.show()"
      ],
      "metadata": {
        "colab": {
          "base_uri": "https://localhost:8080/",
          "height": 449
        },
        "id": "fRQ45tXB3v4I",
        "outputId": "0492696f-4136-45ac-9c7b-840a7bbc1807"
      },
      "execution_count": 16,
      "outputs": [
        {
          "output_type": "display_data",
          "data": {
            "text/plain": [
              "<Figure size 640x480 with 1 Axes>"
            ],
            "image/png": "[encoded data removed]"
          },
          "metadata": {}
        }
      ]
    },
    {
      "cell_type": "code",
      "source": [
        "idx = np.random.permutation(N) # Permutar los datos"
      ],
      "metadata": {
        "id": "7V1P7QKw853p"
      },
      "execution_count": 17,
      "outputs": []
    },
    {
      "cell_type": "code",
      "source": [
        "X_log, y_log = X[idx], y_log[idx]"
      ],
      "metadata": {
        "id": "X-ZKrvFO89f6"
      },
      "execution_count": 18,
      "outputs": []
    },
    {
      "cell_type": "code",
      "source": [
        "# fit_intercept=False porque agregamos las 1's, penalty=None para que no incluya regularización\n",
        "lrc = LogisticRegression(fit_intercept=False, penalty=None)\n",
        "lrc = lrc.fit(X_log, y_log)"
      ],
      "metadata": {
        "id": "NkDExrdE8a9l"
      },
      "execution_count": 19,
      "outputs": []
    },
    {
      "cell_type": "code",
      "source": [
        "y_hat_log = lrc.predict(X_log)"
      ],
      "metadata": {
        "id": "kQWEZHXA8nl5"
      },
      "execution_count": 20,
      "outputs": []
    },
    {
      "cell_type": "code",
      "source": [
        "print(\"Predicción/Total = %.2f\" % (np.sum(y_hat_log == y_log)/N))"
      ],
      "metadata": {
        "colab": {
          "base_uri": "https://localhost:8080/"
        },
        "id": "3DWL-qUv8tVq",
        "outputId": "fe68eee1-d0f8-41d2-cab5-230f0de596b3"
      },
      "execution_count": 21,
      "outputs": [
        {
          "output_type": "stream",
          "name": "stdout",
          "text": [
            "Predicción/Total = 0.97\n"
          ]
        }
      ]
    },
    {
      "cell_type": "code",
      "source": [
        "print(\"Parémetros:\", lrc.coef_)"
      ],
      "metadata": {
        "colab": {
          "base_uri": "https://localhost:8080/"
        },
        "id": "7tIPCCwt9w-I",
        "outputId": "5c468cb0-62e6-4975-d9fd-61f823d1279f"
      },
      "execution_count": 22,
      "outputs": [
        {
          "output_type": "stream",
          "name": "stdout",
          "text": [
            "Parémetros: [[-0.45467326  2.88696489]]\n"
          ]
        }
      ]
    },
    {
      "cell_type": "markdown",
      "source": [
        "# Gradiente Descendente\n",
        "\n",
        "Probemos el algoritmo, para los mismos problemas anteriores.\n",
        "\n",
        "Recordar,\n",
        "\\begin{equation}\n",
        "    \\mathbf{w}^{(n+1)} = \\mathbf{w}^{(n)}-\\eta\\nabla_{\\mathbf{w}}J(\\mathbf{w})\n",
        "\\end{equation}"
      ],
      "metadata": {
        "id": "MHxg6v_SBQ6L"
      }
    },
    {
      "cell_type": "code",
      "source": [
        "# Derivadas parciales de la función de costo de la regresión lineal\n",
        "def dJdw_linear_regression(w, X, y):\n",
        "  dJdw0 = -2 / N * np.sum((y - X @ w) * X[:, 0])\n",
        "  dJdw1 = -2 / N * np.sum((y - X @ w) * X[:, 1])\n",
        "  return np.array([dJdw0, dJdw1])\n",
        "\n",
        "# Derivadas parciales de la función de costo de la regresión logística\n",
        "def dJdw_logistic_regression(w, X, y):\n",
        "  dJdw0 = 1 / N * np.sum((sigmoide(X @ w) - y) * X[:, 0])\n",
        "  dJdw1 = 1 / N * np.sum((sigmoide(X @ w) - y) * X[:, 1])\n",
        "  return np.array([dJdw0, dJdw1])\n",
        "\n",
        "# Algoritmo del descenso de gradiente\n",
        "def gradient_descent(w, X, y, dJdw, eta=0.01, n_iter=1000):\n",
        "  for n in range(n_iter):\n",
        "    w = w - eta * dJdw(w, X, y)\n",
        "  return w"
      ],
      "metadata": {
        "id": "--U9jML2A5oN"
      },
      "execution_count": 23,
      "outputs": []
    },
    {
      "cell_type": "markdown",
      "source": [
        "Parámetros de la regresión lineal usando el descenso de gradiente."
      ],
      "metadata": {
        "id": "CNrswiS5LMTH"
      }
    },
    {
      "cell_type": "code",
      "source": [
        "w_gd_lr = gradient_descent(np.array([0, 0]), X, y_reg, dJdw_linear_regression)"
      ],
      "metadata": {
        "id": "GvFcSktyGVhK"
      },
      "execution_count": 24,
      "outputs": []
    },
    {
      "cell_type": "code",
      "source": [
        "w_gd_lr"
      ],
      "metadata": {
        "colab": {
          "base_uri": "https://localhost:8080/"
        },
        "id": "3Z6-wE9gGmOq",
        "outputId": "3e788c28-1221-4614-d63d-16ad44a0ffa8"
      },
      "execution_count": 25,
      "outputs": [
        {
          "output_type": "execute_result",
          "data": {
            "text/plain": [
              "array([5.03267522, 0.960414  ])"
            ]
          },
          "metadata": {},
          "execution_count": 25
        }
      ]
    },
    {
      "cell_type": "markdown",
      "source": [
        "Parámetros de la regresión logística usando el descenso de gradiente."
      ],
      "metadata": {
        "id": "XHHlhIJBLRn_"
      }
    },
    {
      "cell_type": "code",
      "source": [
        "w_gd_log = gradient_descent(np.array([0,0]), X_log, y_log, dJdw_logistic_regression, eta=0.5, n_iter=10000)"
      ],
      "metadata": {
        "id": "sU-aSXMvGrGr"
      },
      "execution_count": 26,
      "outputs": []
    },
    {
      "cell_type": "code",
      "source": [
        "w_gd_log"
      ],
      "metadata": {
        "colab": {
          "base_uri": "https://localhost:8080/"
        },
        "id": "gzjL4W4iHE3N",
        "outputId": "f4032616-42f7-413b-c766-de83fff868ad"
      },
      "execution_count": 27,
      "outputs": [
        {
          "output_type": "execute_result",
          "data": {
            "text/plain": [
              "array([-0.45463533,  2.88693436])"
            ]
          },
          "metadata": {},
          "execution_count": 27
        }
      ]
    },
    {
      "cell_type": "markdown",
      "source": [
        "Compare los resultados con los valores obtenidos anteriormente. Considere que el algoritmo es sensible a la inicialización de $\\mathbf{w}^{(0)}$, la cantidad de iteraciones y la tasa de aprendizaje $\\eta$ 🤔."
      ],
      "metadata": {
        "id": "rostuUi3Jkq5"
      }
    }
  ]
}