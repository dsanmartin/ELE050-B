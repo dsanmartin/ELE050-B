{
  "nbformat": 4,
  "nbformat_minor": 0,
  "metadata": {
    "colab": {
      "provenance": [],
      "authorship_tag": "ABX9TyMD9oAYUYcN6ednSSyqNL+b",
      "include_colab_link": true
    },
    "kernelspec": {
      "name": "python3",
      "display_name": "Python 3"
    },
    "language_info": {
      "name": "python"
    }
  },
  "cells": [
    {
      "cell_type": "markdown",
      "metadata": {
        "id": "view-in-github",
        "colab_type": "text"
      },
      "source": [
        "<a href=\"https://colab.research.google.com/github/dsanmartin/ELE050-B/blob/main/07_dimension.ipynb\" target=\"_parent\"><img src=\"https://colab.research.google.com/assets/colab-badge.svg\" alt=\"Open In Colab\"/></a>"
      ]
    },
    {
      "cell_type": "code",
      "source": [
        "import numpy as np\n",
        "import matplotlib.pyplot as plt\n",
        "from sklearn.decomposition import PCA\n",
        "from sklearn.manifold import TSNE\n",
        "from sklearn.neural_network import MLPRegressor\n",
        "from sklearn.datasets import load_digits\n",
        "from sklearn.preprocessing import StandardScaler"
      ],
      "metadata": {
        "id": "Ci6nPdWQJ_2t"
      },
      "execution_count": 44,
      "outputs": []
    },
    {
      "cell_type": "markdown",
      "source": [
        "# Valores y vectores propios"
      ],
      "metadata": {
        "id": "NWoACw3mbErJ"
      }
    },
    {
      "cell_type": "markdown",
      "source": [
        "\\begin{equation}\n",
        "  A\\mathbf{v}=\\lambda\\mathbf{v}\n",
        "\\end{equation}"
      ],
      "metadata": {
        "id": "5VzTz0xyWGCC"
      }
    },
    {
      "cell_type": "code",
      "execution_count": 45,
      "metadata": {
        "id": "7qLYZNRcHv1f"
      },
      "outputs": [],
      "source": [
        "n = 100\n",
        "A = np.random.rand(n, n)"
      ]
    },
    {
      "cell_type": "code",
      "source": [
        "vals, vecs = np.linalg.eigh(A)"
      ],
      "metadata": {
        "id": "deu5ha2DbLWB"
      },
      "execution_count": 46,
      "outputs": []
    },
    {
      "cell_type": "markdown",
      "source": [
        "La variable `vals` contiene los valores propios $\\lambda_1, \\dots, \\lambda_n$ y `vecs` contiene los vectores propios $\\mathbf{v}_1, \\dots, \\mathbf{v}_n$. Podemos reconstruir la matriz $A$ con\n",
        "\n",
        "\\begin{equation}\n",
        "  A = V \\Lambda V^{-1},\n",
        "\\end{equation}\n",
        "\n",
        "con $V=(\\mathbf{v}_1, \\dots, \\mathbf{v}_n)$. Esta matriz es unitaria, por lo que\n",
        "\n",
        "\\begin{equation}\n",
        "  V^{-1}V = VV^{-1}=I\n",
        "\\end{equation}"
      ],
      "metadata": {
        "id": "It7acrdRbZZ5"
      }
    },
    {
      "cell_type": "code",
      "source": [
        "Id_mat = vecs @ np.linalg.inv(vecs)"
      ],
      "metadata": {
        "id": "4aCyLt83KIFN"
      },
      "execution_count": 47,
      "outputs": []
    },
    {
      "cell_type": "code",
      "source": [
        "import matplotlib.pyplot as plt\n",
        "plt.matshow(Id_mat)\n",
        "plt.colorbar()\n",
        "plt.show()"
      ],
      "metadata": {
        "colab": {
          "base_uri": "https://localhost:8080/",
          "height": 422
        },
        "id": "6ZA-3sNQVSU6",
        "outputId": "feabedce-3d82-4121-9b0e-f2ad92ff2228"
      },
      "execution_count": 48,
      "outputs": [
        {
          "output_type": "display_data",
          "data": {
            "text/plain": [
              "<Figure size 480x480 with 2 Axes>"
            ],
            "image/png": "[encoded data removed]"
          },
          "metadata": {}
        }
      ]
    },
    {
      "cell_type": "code",
      "source": [
        "Lamb = np.zeros((n, n)) # Creación de \\Lambda\n",
        "for i in range(n):\n",
        "    Lamb[i, i] = vals[i]"
      ],
      "metadata": {
        "id": "Ehc9kIUHWCfK"
      },
      "execution_count": 49,
      "outputs": []
    },
    {
      "cell_type": "code",
      "source": [
        "A_rec = vecs @ Lamb @ np.linalg.inv(vecs)"
      ],
      "metadata": {
        "id": "hqtoC2aoWvrJ"
      },
      "execution_count": 50,
      "outputs": []
    },
    {
      "cell_type": "code",
      "source": [
        "# Mostrar las primeas 5 filas\n",
        "for i in range(5):\n",
        "  print(i)\n",
        "  # Mostrar los primeros 4 componentes\n",
        "  print(A[i,:4])\n",
        "  print(A_rec[i,:4])"
      ],
      "metadata": {
        "colab": {
          "base_uri": "https://localhost:8080/"
        },
        "id": "DojFl27nW2F5",
        "outputId": "c991becc-8481-4029-b06b-3571823aaf2f"
      },
      "execution_count": 51,
      "outputs": [
        {
          "output_type": "stream",
          "name": "stdout",
          "text": [
            "0\n",
            "[0.81630986 0.20503751 0.11525095 0.97066367]\n",
            "[0.81630986 0.53041001 0.55929538 0.85915938]\n",
            "1\n",
            "[0.53041001 0.51077327 0.19774837 0.72622055]\n",
            "[0.53041001 0.51077327 0.72631881 0.13699495]\n",
            "2\n",
            "[0.55929538 0.72631881 0.39152186 0.90198531]\n",
            "[0.55929538 0.72631881 0.39152186 0.01342803]\n",
            "3\n",
            "[0.85915938 0.13699495 0.01342803 0.51989169]\n",
            "[0.85915938 0.13699495 0.01342803 0.51989169]\n",
            "4\n",
            "[0.87365844 0.45923229 0.42520101 0.66506831]\n",
            "[0.87365844 0.45923229 0.42520101 0.66506831]\n"
          ]
        }
      ]
    },
    {
      "cell_type": "markdown",
      "source": [
        "# Reducción de dimensionalidad"
      ],
      "metadata": {
        "id": "jxSz64rbco6x"
      }
    },
    {
      "cell_type": "code",
      "source": [
        "data = load_digits()"
      ],
      "metadata": {
        "id": "mDOoqfcxXWKa"
      },
      "execution_count": 52,
      "outputs": []
    },
    {
      "cell_type": "code",
      "source": [
        "X = data.data"
      ],
      "metadata": {
        "id": "XFG4zcyFdT9o"
      },
      "execution_count": 56,
      "outputs": []
    },
    {
      "cell_type": "code",
      "source": [
        "X[100]"
      ],
      "metadata": {
        "colab": {
          "base_uri": "https://localhost:8080/"
        },
        "id": "P-ltc85Wdpog",
        "outputId": "6958313c-1c61-4a70-b769-24d2e8bc80b0"
      },
      "execution_count": 60,
      "outputs": [
        {
          "output_type": "execute_result",
          "data": {
            "text/plain": [
              "array([ 0.,  0.,  0.,  2., 13.,  0.,  0.,  0.,  0.,  0.,  0.,  8., 15.,\n",
              "        0.,  0.,  0.,  0.,  0.,  5., 16.,  5.,  2.,  0.,  0.,  0.,  0.,\n",
              "       15., 12.,  1., 16.,  4.,  0.,  0.,  4., 16.,  2.,  9., 16.,  8.,\n",
              "        0.,  0.,  0., 10., 14., 16., 16.,  4.,  0.,  0.,  0.,  0.,  0.,\n",
              "       13.,  8.,  0.,  0.,  0.,  0.,  0.,  0., 13.,  6.,  0.,  0.])"
            ]
          },
          "metadata": {},
          "execution_count": 60
        }
      ]
    },
    {
      "cell_type": "code",
      "source": [
        "plt.matshow(X[100].reshape(8, 8), cmap='gray')\n",
        "plt.colorbar()\n",
        "plt.show()"
      ],
      "metadata": {
        "colab": {
          "base_uri": "https://localhost:8080/",
          "height": 422
        },
        "id": "F_5PL7IgdUnn",
        "outputId": "04d3397d-1b0c-4476-c1f4-9e992018c2bd"
      },
      "execution_count": 59,
      "outputs": [
        {
          "output_type": "display_data",
          "data": {
            "text/plain": [
              "<Figure size 480x480 with 2 Axes>"
            ],
            "image/png": "[encoded data removed]"
          },
          "metadata": {}
        }
      ]
    },
    {
      "cell_type": "code",
      "source": [
        "X_scaled = StandardScaler().fit_transform(X)"
      ],
      "metadata": {
        "id": "n1qV8zNeeWbg"
      },
      "execution_count": 61,
      "outputs": []
    },
    {
      "cell_type": "code",
      "source": [
        "data_pca = PCA(n_components=2).fit_transform(X_scaled)"
      ],
      "metadata": {
        "id": "RsWPWEa3dlkI"
      },
      "execution_count": 62,
      "outputs": []
    },
    {
      "cell_type": "code",
      "source": [
        "data_tsne = TSNE(n_components=2).fit_transform(X_scaled)"
      ],
      "metadata": {
        "id": "hvGsnBPtev1x"
      },
      "execution_count": 65,
      "outputs": []
    },
    {
      "cell_type": "code",
      "source": [
        "ae = MLPRegressor(hidden_layer_sizes=(2, ), max_iter=1000).fit(X_scaled, X_scaled)"
      ],
      "metadata": {
        "id": "sMN40mOEfxFw"
      },
      "execution_count": 82,
      "outputs": []
    },
    {
      "cell_type": "code",
      "source": [
        "W = ae.coefs_[0]\n",
        "b = ae.intercepts_[0]"
      ],
      "metadata": {
        "id": "iT5kkWjMgHmY"
      },
      "execution_count": 83,
      "outputs": []
    },
    {
      "cell_type": "code",
      "source": [
        "data_ae = np.maximum(0, X_scaled @ W) + b"
      ],
      "metadata": {
        "id": "L_oSF4QseiKX"
      },
      "execution_count": 84,
      "outputs": []
    },
    {
      "cell_type": "code",
      "source": [
        "#data_ae.shape"
      ],
      "metadata": {
        "id": "1CQ4IP3mg7w_"
      },
      "execution_count": 85,
      "outputs": []
    },
    {
      "cell_type": "code",
      "source": [
        "#plt.scatter(data_pca[:, 0], data_pca[:, 1])\n",
        "#plt.scatter(data_tsne[:, 0], data_tsne[:, 1], c=data.target, cmap=\"jet\")\n",
        "plt.scatter(data_ae[:, 0], data_ae[:, 1])\n",
        "#plt.colorbar()\n",
        "plt.show()"
      ],
      "metadata": {
        "colab": {
          "base_uri": "https://localhost:8080/",
          "height": 430
        },
        "id": "l56XkDyGelqn",
        "outputId": "48fc8782-eed2-402f-88ee-fae4c4febf16"
      },
      "execution_count": 87,
      "outputs": [
        {
          "output_type": "display_data",
          "data": {
            "text/plain": [
              "<Figure size 640x480 with 1 Axes>"
            ],
            "image/png": "[encoded data removed]"
          },
          "metadata": {}
        }
      ]
    },
    {
      "cell_type": "code",
      "source": [
        "data.target.shape"
      ],
      "metadata": {
        "colab": {
          "base_uri": "https://localhost:8080/"
        },
        "id": "9W2dz2u1erFX",
        "outputId": "244ceef9-9a97-413a-b7ba-fc482b69c9e1"
      },
      "execution_count": 68,
      "outputs": [
        {
          "output_type": "execute_result",
          "data": {
            "text/plain": [
              "(1797,)"
            ]
          },
          "metadata": {},
          "execution_count": 68
        }
      ]
    },
    {
      "cell_type": "code",
      "source": [
        "data_pca_2 = PCA(n_components=25).fit_transform(X_scaled)\n",
        "data_tsne_2 = TSNE(n_components=25, method='exact').fit_transform(X_scaled)"
      ],
      "metadata": {
        "id": "qrNmIj0SfDa3"
      },
      "execution_count": 98,
      "outputs": []
    },
    {
      "cell_type": "code",
      "source": [
        "n = 300\n",
        "print(data.target[n])\n",
        "plt.figure(figsize=(12, 4))\n",
        "#plt.subplot(1, 2, 1)\n",
        "plt.matshow(X[n].reshape(8, 8), cmap=\"gray\")\n",
        "plt.colorbar()\n",
        "#plt.subplot(1, 2, 2)\n",
        "plt.matshow(data_pca_2[n].reshape(5, 5), cmap='gray')\n",
        "plt.colorbar()\n",
        "plt.tight_layout()\n",
        "plt.show()"
      ],
      "metadata": {
        "colab": {
          "base_uri": "https://localhost:8080/",
          "height": 883
        },
        "id": "qVFYfomciSnn",
        "outputId": "1a01cafd-053d-4625-9374-9b3ef95ed0a8"
      },
      "execution_count": 96,
      "outputs": [
        {
          "output_type": "stream",
          "name": "stdout",
          "text": [
            "7\n"
          ]
        },
        {
          "output_type": "stream",
          "name": "stderr",
          "text": [
            "<ipython-input-96-3341379f51c3>:10: UserWarning: This figure includes Axes that are not compatible with tight_layout, so results might be incorrect.\n",
            "  plt.tight_layout()\n"
          ]
        },
        {
          "output_type": "display_data",
          "data": {
            "text/plain": [
              "<Figure size 1200x400 with 0 Axes>"
            ]
          },
          "metadata": {}
        },
        {
          "output_type": "display_data",
          "data": {
            "text/plain": [
              "<Figure size 480x480 with 2 Axes>"
            ],
            "image/png": "[encoded data removed]"
          },
          "metadata": {}
        },
        {
          "output_type": "display_data",
          "data": {
            "text/plain": [
              "<Figure size 480x480 with 2 Axes>"
            ],
            "image/png": "[encoded data removed]"
          },
          "metadata": {}
        }
      ]
    },
    {
      "cell_type": "code",
      "source": [],
      "metadata": {
        "id": "eH4uRxrCiJQn"
      },
      "execution_count": null,
      "outputs": []
    }
  ]
}