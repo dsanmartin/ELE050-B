{
  "nbformat": 4,
  "nbformat_minor": 0,
  "metadata": {
    "colab": {
      "provenance": [],
      "authorship_tag": "ABX9TyNm22pQsMu5ChLve7Bh2GH/",
      "include_colab_link": true
    },
    "kernelspec": {
      "name": "python3",
      "display_name": "Python 3"
    },
    "language_info": {
      "name": "python"
    }
  },
  "cells": [
    {
      "cell_type": "markdown",
      "metadata": {
        "id": "view-in-github",
        "colab_type": "text"
      },
      "source": [
        "<a href=\"https://colab.research.google.com/github/dsanmartin/ELE050-B/blob/main/01_newton_raphson.ipynb\" target=\"_parent\"><img src=\"https://colab.research.google.com/assets/colab-badge.svg\" alt=\"Open In Colab\"/></a>"
      ]
    },
    {
      "cell_type": "markdown",
      "source": [
        "# Método de Newton-Rapshon\n",
        "\n",
        "Algoritmo para encontrar las raíces de una función.\n",
        "El proceso iterativo es:\n",
        "\\begin{equation}\n",
        "  x^{(n+1)}=x^{(n)}-\\dfrac{f(x^{(n)})}{f'(x^{(n)})},\n",
        "\\end{equation}\n",
        "\n",
        "con $x^{(0)}$ la estimación inicial.\n",
        "\n",
        "## Optimización\n",
        "\n",
        "El método puede ser extendido para optimizar funciones (buscar mínimos o máximos).\n",
        "El algoritmo se modifica con:\n",
        "\\begin{equation}\n",
        "  x^{(n+1)}=x^{(n)}-\\dfrac{f'(x^{(n)})}{f''(x^{(n)})}.\n",
        "\\end{equation}\n"
      ],
      "metadata": {
        "id": "toJbo5ILuqM0"
      }
    },
    {
      "cell_type": "markdown",
      "source": [
        "## Ejemplo\n",
        "\n",
        "Calcular algún cero y el mínimo de la función\n",
        "\\begin{equation}\n",
        "  f(x)=x^2 - 2.\n",
        "\\end{equation}\n",
        "\n",
        "Analíticamente sabemos que las soluciones son $x=\\pm\\sqrt{2}$, y el mínimo está en $x=0$."
      ],
      "metadata": {
        "id": "JEVzDIBgyjTX"
      }
    },
    {
      "cell_type": "code",
      "source": [
        "import matplotlib.pyplot as plt\n",
        "import numpy as np"
      ],
      "metadata": {
        "id": "I0dcP47Iu8qC"
      },
      "execution_count": 1,
      "outputs": []
    },
    {
      "cell_type": "code",
      "source": [
        "def f(x):\n",
        "  return x ** 2 - 2\n",
        "\n",
        "def df(x):\n",
        "  return 2 * x\n",
        "\n",
        "def d2f(x):\n",
        "  return 2\n",
        "\n",
        "def newton_raphson(x0, n_iter):\n",
        "  x = x0\n",
        "  for n in range(n_iter):\n",
        "    x = x - f(x) / df(x)\n",
        "  return x\n",
        "\n",
        "def newton_raphson_opt(x0, n_iter):\n",
        "  x = x0\n",
        "  for n in range(n_iter):\n",
        "    x = x - df(x) / d2f(x)\n",
        "  return x"
      ],
      "metadata": {
        "id": "ZLPgBNAgvH0c"
      },
      "execution_count": 2,
      "outputs": []
    },
    {
      "cell_type": "code",
      "source": [
        "sol = newton_raphson(1, 10)"
      ],
      "metadata": {
        "id": "MHajvof0vuG2"
      },
      "execution_count": 3,
      "outputs": []
    },
    {
      "cell_type": "code",
      "source": [
        "print(\"Aproximación: %.8f, solución analítica: %.8f, error: %.2e\" % (sol, 2 ** 0.5, abs(sol - 2 ** 0.5)))"
      ],
      "metadata": {
        "colab": {
          "base_uri": "https://localhost:8080/"
        },
        "id": "c_ngbTcbv-kt",
        "outputId": "13b463a3-4135-4176-efbf-1cee62599970"
      },
      "execution_count": 4,
      "outputs": [
        {
          "output_type": "stream",
          "name": "stdout",
          "text": [
            "Aproximación: 1.41421356, solución analítica: 1.41421356, error: 2.22e-16\n"
          ]
        }
      ]
    },
    {
      "cell_type": "code",
      "source": [
        "sol_min = newton_raphson_opt(1, 10)"
      ],
      "metadata": {
        "id": "9Ebo8pz30HC2"
      },
      "execution_count": 5,
      "outputs": []
    },
    {
      "cell_type": "code",
      "source": [
        "print(\"Aproximación: %.8f, solución analítica: %.8f, error: %.2e\" % (sol_min, 0, abs(sol_min)))"
      ],
      "metadata": {
        "colab": {
          "base_uri": "https://localhost:8080/"
        },
        "id": "iUjNVzj-0J1I",
        "outputId": "2a38edec-53b0-468a-87c3-2cd62fdb1b19"
      },
      "execution_count": 6,
      "outputs": [
        {
          "output_type": "stream",
          "name": "stdout",
          "text": [
            "Aproximación: 0.00000000, solución analítica: 0.00000000, error: 0.00e+00\n"
          ]
        }
      ]
    },
    {
      "cell_type": "code",
      "source": [
        "xm = np.linspace(-2, 2, 128)"
      ],
      "metadata": {
        "id": "qLGTOOVowESx"
      },
      "execution_count": 7,
      "outputs": []
    },
    {
      "cell_type": "code",
      "source": [
        "plt.plot(xm, f(xm), label=r'$f(x)$')\n",
        "plt.plot(sol, f(sol), 'x', label=r'Raíz')\n",
        "plt.plot(sol_min, f(sol_min), 'o', label=r'Mínimo')\n",
        "plt.grid(True)\n",
        "plt.legend()\n",
        "plt.xlabel(r'$x$')\n",
        "plt.ylabel(r'$f(x)$')\n",
        "plt.show()"
      ],
      "metadata": {
        "colab": {
          "base_uri": "https://localhost:8080/",
          "height": 449
        },
        "id": "TxXYyJr6yaRS",
        "outputId": "94306e0b-4c8d-4ec2-9f09-fcd1b7a07e6a"
      },
      "execution_count": 8,
      "outputs": [
        {
          "output_type": "display_data",
          "data": {
            "text/plain": [
              "<Figure size 640x480 with 1 Axes>"
            ],
            "image/png": "[encoded data removed]"
          },
          "metadata": {}
        }
      ]
    },
    {
      "cell_type": "markdown",
      "source": [
        "# Ejercicio\n",
        "\n",
        "Pruebe con funciones más interesantes 😀"
      ],
      "metadata": {
        "id": "NOYYprgu0pmw"
      }
    }
  ]
}